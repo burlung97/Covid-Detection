{
  "nbformat": 4,
  "nbformat_minor": 0,
  "metadata": {
    "accelerator": "GPU",
    "colab": {
      "provenance": [],
      "include_colab_link": true
    },
    "kernelspec": {
      "display_name": "Python 3",
      "name": "python3"
    }
  },
  "cells": [
    {
      "cell_type": "markdown",
      "metadata": {
        "id": "view-in-github",
        "colab_type": "text"
      },
      "source": [
        "<a href=\"https://colab.research.google.com/github/burlung97/Covid-Detection/blob/main/covid_detection_using_our_own_model.ipynb\" target=\"_parent\"><img src=\"https://colab.research.google.com/assets/colab-badge.svg\" alt=\"Open In Colab\"/></a>"
      ]
    },
    {
      "cell_type": "code",
      "metadata": {
        "colab": {
          "base_uri": "https://localhost:8080/"
        },
        "id": "4oXT68jsADF4",
        "outputId": "068e00e9-e5cb-4a89-f162-e655ff6117fe"
      },
      "source": [
        "!wget https://www.dropbox.com/s/ahk0ce1pkysxzpq/datasets.zip?dl=0"
      ],
      "execution_count": null,
      "outputs": [
        {
          "output_type": "stream",
          "text": [
            "--2021-06-16 09:01:06--  https://www.dropbox.com/s/ahk0ce1pkysxzpq/datasets.zip?dl=0\n",
            "Resolving www.dropbox.com (www.dropbox.com)... 162.125.4.18, 2620:100:6016:18::a27d:112\n",
            "Connecting to www.dropbox.com (www.dropbox.com)|162.125.4.18|:443... connected.\n",
            "HTTP request sent, awaiting response... 301 Moved Permanently\n",
            "Location: /s/raw/ahk0ce1pkysxzpq/datasets.zip [following]\n",
            "--2021-06-16 09:01:07--  https://www.dropbox.com/s/raw/ahk0ce1pkysxzpq/datasets.zip\n",
            "Reusing existing connection to www.dropbox.com:443.\n",
            "HTTP request sent, awaiting response... 302 Found\n",
            "Location: https://uccdfc4a7a5f6959162b9abd7ffb.dl.dropboxusercontent.com/cd/0/inline/BQjQiaGxTv3Ms_6bn9Q9kf_p1iI_igZEhAZFX8bIQFxm89SOQSVx221hLDlJBkkPy-rk-uiuLePYmssVXgSbeUs4-bidRovDjTlajJo2vmuQvNd6lL0gwBZMXAYuJjSwW-EgwkgsVROfxi0RCI8UQEue/file# [following]\n",
            "--2021-06-16 09:01:07--  https://uccdfc4a7a5f6959162b9abd7ffb.dl.dropboxusercontent.com/cd/0/inline/BQjQiaGxTv3Ms_6bn9Q9kf_p1iI_igZEhAZFX8bIQFxm89SOQSVx221hLDlJBkkPy-rk-uiuLePYmssVXgSbeUs4-bidRovDjTlajJo2vmuQvNd6lL0gwBZMXAYuJjSwW-EgwkgsVROfxi0RCI8UQEue/file\n",
            "Resolving uccdfc4a7a5f6959162b9abd7ffb.dl.dropboxusercontent.com (uccdfc4a7a5f6959162b9abd7ffb.dl.dropboxusercontent.com)... 162.125.1.15, 2620:100:6016:15::a27d:10f\n",
            "Connecting to uccdfc4a7a5f6959162b9abd7ffb.dl.dropboxusercontent.com (uccdfc4a7a5f6959162b9abd7ffb.dl.dropboxusercontent.com)|162.125.1.15|:443... connected.\n",
            "HTTP request sent, awaiting response... 302 Found\n",
            "Location: /cd/0/inline2/BQgganJk7Hw0SCGi3hCprY194cJGKqgaOiwU4rY4E9ReprssDm2RjlGohOkuLkUMt2S7vSgHQCCwDQ5uqwMNCEAqxighoDpyAhtkQrQXblXnVd2ibm_NoC7Cs2ZKd5UviaCZJlVDimSqL2lpeL1ByeR7aQ4pVjVYXO2m1pRITTzBJCgFWc9bHuCj7o3sheCq48rpzaRpbmB6BZMiviONB90yrHYIocWp-1CCBVCBeOwOGvUDi3FbnaVrbsGbAKYPoyzPBNNl8j5XIMSZsH6OCvbg0NPC71BTr3FuOlt6KPltIQqN7aXSNIZ1BEa_WrV4Cdea8L5pyGmY53UbE6UENkG36VclhdQxL_y8YIpY2Vb7xCPP_MC6U7Bx0lbgrHewRTM/file [following]\n",
            "--2021-06-16 09:01:07--  https://uccdfc4a7a5f6959162b9abd7ffb.dl.dropboxusercontent.com/cd/0/inline2/BQgganJk7Hw0SCGi3hCprY194cJGKqgaOiwU4rY4E9ReprssDm2RjlGohOkuLkUMt2S7vSgHQCCwDQ5uqwMNCEAqxighoDpyAhtkQrQXblXnVd2ibm_NoC7Cs2ZKd5UviaCZJlVDimSqL2lpeL1ByeR7aQ4pVjVYXO2m1pRITTzBJCgFWc9bHuCj7o3sheCq48rpzaRpbmB6BZMiviONB90yrHYIocWp-1CCBVCBeOwOGvUDi3FbnaVrbsGbAKYPoyzPBNNl8j5XIMSZsH6OCvbg0NPC71BTr3FuOlt6KPltIQqN7aXSNIZ1BEa_WrV4Cdea8L5pyGmY53UbE6UENkG36VclhdQxL_y8YIpY2Vb7xCPP_MC6U7Bx0lbgrHewRTM/file\n",
            "Reusing existing connection to uccdfc4a7a5f6959162b9abd7ffb.dl.dropboxusercontent.com:443.\n",
            "HTTP request sent, awaiting response... 200 OK\n",
            "Length: 90062495 (86M) [application/zip]\n",
            "Saving to: ‘datasets.zip?dl=0’\n",
            "\n",
            "datasets.zip?dl=0   100%[===================>]  85.89M  76.4MB/s    in 1.1s    \n",
            "\n",
            "2021-06-16 09:01:09 (76.4 MB/s) - ‘datasets.zip?dl=0’ saved [90062495/90062495]\n",
            "\n"
          ],
          "name": "stdout"
        }
      ]
    },
    {
      "cell_type": "code",
      "metadata": {
        "colab": {
          "base_uri": "https://localhost:8080/"
        },
        "id": "xzt197nDAg_S",
        "outputId": "82c59e54-5ecd-41a0-c63d-6386c7d7708c"
      },
      "source": [
        "!unzip datasets.zip?dl=0"
      ],
      "execution_count": null,
      "outputs": [
        {
          "output_type": "stream",
          "text": [
            "Archive:  datasets.zip?dl=0\n",
            "   creating: datasets/\n",
            "   creating: datasets/Train/\n",
            "   creating: datasets/Train/COVID/\n",
            "  inflating: datasets/Train/COVID/2020.02.28.20029025-p23-182.png  \n",
            "  inflating: datasets/Train/COVID/2020.02.28.20029025-p23-183.png  \n",
            "  inflating: datasets/Train/COVID/2020.03.01.20029769-p21-73_1%0.png  \n",
            "  inflating: datasets/Train/COVID/2020.03.01.20029769-p21-73_1%1.png  \n",
            "  inflating: datasets/Train/COVID/2020.03.01.20029769-p21-73_1%2.png  \n",
            "  inflating: datasets/Train/COVID/2020.03.01.20029769-p21-73_2%0.png  \n",
            "  inflating: datasets/Train/COVID/2020.03.01.20029769-p21-73_2%1.png  \n",
            "  inflating: datasets/Train/COVID/2020.03.01.20029769-p21-73_2%2.png  \n",
            "  inflating: datasets/Train/COVID/2020.03.01.20029769-p21-73_3.png  \n",
            "  inflating: datasets/Train/COVID/2020.03.01.20029769-p21-73_4.png  \n",
            "  inflating: datasets/Train/COVID/2020.03.03.20030353-p17-106%0.png  \n",
            "  inflating: datasets/Train/COVID/2020.03.03.20030353-p17-106%1.png  \n",
            "  inflating: datasets/Train/COVID/2020.03.03.20030353-p17-106%2.png  \n",
            "  inflating: datasets/Train/COVID/2020.03.03.20030775-p10-88%0.png  \n",
            "  inflating: datasets/Train/COVID/2020.03.03.20030775-p10-88%1.png  \n",
            "  inflating: datasets/Train/COVID/2020.03.03.20030775-p11-91.png  \n",
            "  inflating: datasets/Train/COVID/2020.03.03.20030775-p12-93%0.png  \n",
            "  inflating: datasets/Train/COVID/2020.03.03.20030775-p12-93%1.png  \n",
            "  inflating: datasets/Train/COVID/2020.03.04.20026005-p12-1946%0.png  \n",
            "  inflating: datasets/Train/COVID/2020.03.04.20026005-p12-1946%1.png  \n",
            "  inflating: datasets/Train/COVID/2020.03.04.20026005-p12-1946%2.png  \n",
            "  inflating: datasets/Train/COVID/2020.03.04.20026005-p12-1946%3.png  \n",
            "  inflating: datasets/Train/COVID/2020.03.04.20026005-p12-1946%4.png  \n",
            "  inflating: datasets/Train/COVID/2020.03.04.20026005-p12-1946%5.png  \n",
            "  inflating: datasets/Train/COVID/2020.03.04.20030395-p27-108%0.png  \n",
            "  inflating: datasets/Train/COVID/2020.03.04.20030395-p27-108%1.png  \n",
            "  inflating: datasets/Train/COVID/2020.03.04.20030395-p27-108%2.png  \n",
            "  inflating: datasets/Train/COVID/2020.03.04.20030395-p27-108%3.png  \n",
            "  inflating: datasets/Train/COVID/2020.03.04.20030395-p27-108%4.png  \n",
            "  inflating: datasets/Train/COVID/2020.03.04.20030395-p27-108%5.png  \n",
            "  inflating: datasets/Train/COVID/2020.03.04.20030395-p27-108%6.png  \n",
            "  inflating: datasets/Train/COVID/2020.03.04.20030395-p27-108%7.png  \n",
            "  inflating: datasets/Train/COVID/2020.03.04.20030395-p27-108%8.png  \n",
            "  inflating: datasets/Train/COVID/2020.03.04.20031039-p23-97_1%0.png  \n",
            "  inflating: datasets/Train/COVID/2020.03.04.20031039-p23-97_1%1.png  \n",
            "  inflating: datasets/Train/COVID/2020.03.04.20031039-p23-97_1%2.png  \n",
            "  inflating: datasets/Train/COVID/2020.03.04.20031039-p23-97_2%0.png  \n",
            "  inflating: datasets/Train/COVID/2020.03.04.20031039-p23-97_2%1.png  \n",
            "  inflating: datasets/Train/COVID/2020.03.04.20031039-p23-97_2%2.png  \n",
            "  inflating: datasets/Train/COVID/2020.03.04.20031047-p12-81%0.png  \n",
            "  inflating: datasets/Train/COVID/2020.03.04.20031047-p12-81%1.png  \n",
            "  inflating: datasets/Train/COVID/2020.03.04.20031047-p12-81%2.png  \n",
            "  inflating: datasets/Train/COVID/2020.03.04.20031047-p12-81%3.png  \n",
            "  inflating: datasets/Train/COVID/2020.03.04.20031047-p13-84%0.png  \n",
            "  inflating: datasets/Train/COVID/2020.03.04.20031047-p13-84%1.png  \n",
            "  inflating: datasets/Train/COVID/2020.03.04.20031047-p13-84%2.png  \n",
            "  inflating: datasets/Train/COVID/2020.03.04.20031047-p13-84%3.png  \n",
            "  inflating: datasets/Train/COVID/2020.03.04.20031047-p13-84%4.png  \n",
            "  inflating: datasets/Train/COVID/2020.03.04.20031047-p13-84%5.png  \n",
            "  inflating: datasets/Train/COVID/2020.03.04.20031047-p14-87%0.png  \n",
            "  inflating: datasets/Train/COVID/2020.03.04.20031047-p14-87%1.png  \n",
            "  inflating: datasets/Train/COVID/2020.03.07.20031393-p7-50%0.png  \n",
            "  inflating: datasets/Train/COVID/2020.03.07.20031393-p7-50%1.png  \n",
            "  inflating: datasets/Train/COVID/2020.03.07.20031393-p7-50%2.png  \n",
            "  inflating: datasets/Train/COVID/2020.03.07.20031393-p7-50%3.png  \n",
            "  inflating: datasets/Train/COVID/2020.03.08.20031658-p15-103.png  \n",
            "  inflating: datasets/Train/COVID/2020.03.08.20031658-p15-104.png  \n",
            "  inflating: datasets/Train/COVID/2020.03.08.20031658-p15-105.png  \n",
            "  inflating: datasets/Train/COVID/2020.03.08.20031658-p15-106.png  \n",
            "  inflating: datasets/Train/COVID/2020.03.09.20033118-p20-93%0.png  \n",
            "  inflating: datasets/Train/COVID/2020.03.09.20033118-p20-93%1.png  \n",
            "  inflating: datasets/Train/COVID/2020.03.09.20033118-p20-93%2.png  \n",
            "  inflating: datasets/Train/COVID/2020.03.09.20033118-p20-93%3.png  \n",
            "  inflating: datasets/Train/COVID/2020.03.10.20032136-p34-118_1%0.png  \n",
            "  inflating: datasets/Train/COVID/2020.03.10.20032136-p34-118_1%1.png  \n",
            "  inflating: datasets/Train/COVID/2020.03.10.20032136-p34-118_2%0.png  \n",
            "  inflating: datasets/Train/COVID/2020.03.10.20032136-p34-118_2%1.png  \n",
            "  inflating: datasets/Train/COVID/2020.03.11.20033159-p12-45%0.png  \n",
            "  inflating: datasets/Train/COVID/2020.03.11.20033159-p12-45%1.png  \n",
            "  inflating: datasets/Train/COVID/2020.03.11.20033159-p12-45%2.png  \n",
            "  inflating: datasets/Train/COVID/2020.03.11.20033159-p12-45%3.png  \n",
            "  inflating: datasets/Train/COVID/2020.03.11.20033159-p12-45%4.png  \n",
            "  inflating: datasets/Train/COVID/2020.03.11.20033159-p12-45%5.png  \n",
            "  inflating: datasets/Train/COVID/2020.03.12.20027185-p8-216.png  \n",
            "  inflating: datasets/Train/COVID/2020.03.12.20027185-p8-217.png  \n",
            "  inflating: datasets/Train/COVID/2020.03.12.20027185-p8-218.png  \n",
            "  inflating: datasets/Train/COVID/2020.03.12.20027185-p8-221.png  \n",
            "  inflating: datasets/Train/COVID/2020.03.12.20034686-p17-91-1.png  \n",
            "  inflating: datasets/Train/COVID/2020.03.12.20034686-p17-91-2.png  \n",
            "  inflating: datasets/Train/COVID/2020.03.12.20034686-p17-91-3.png  \n",
            "  inflating: datasets/Train/COVID/2020.03.12.20034686-p17-91-4.png  \n",
            "  inflating: datasets/Train/COVID/2020.03.12.20034686-p17-91-5.png  \n",
            "  inflating: datasets/Train/COVID/2020.03.12.20034686-p17-91-6.png  \n",
            "  inflating: datasets/Train/COVID/2020.03.13.20035212-p23-152.png  \n",
            "  inflating: datasets/Train/COVID/2020.03.13.20035212-p23-153.png  \n",
            "  inflating: datasets/Train/COVID/2020.03.13.20035212-p23-154.png  \n",
            "  inflating: datasets/Train/COVID/2020.03.13.20035212-p23-155.png  \n",
            "  inflating: datasets/Train/COVID/2020.03.13.20035212-p23-156.png  \n",
            "  inflating: datasets/Train/COVID/2020.03.13.20035212-p23-157.png  \n",
            "  inflating: datasets/Train/COVID/2020.03.13.20035212-p23-158.png  \n",
            "  inflating: datasets/Train/COVID/2020.03.13.20035212-p23-159.png  \n",
            "  inflating: datasets/Train/COVID/2020.03.13.20035212-p23-160.png  \n",
            "  inflating: datasets/Train/COVID/2020.03.13.20035212-p23-161.png  \n",
            "  inflating: datasets/Train/COVID/2020.03.13.20035212-p23-162.png  \n",
            "  inflating: datasets/Train/COVID/2020.03.13.20035212-p23-163.png  \n",
            "  inflating: datasets/Train/COVID/2020.03.16.20035105-p6-64-1.png  \n",
            "  inflating: datasets/Train/COVID/2020.03.16.20035105-p6-64-2.png  \n",
            "  inflating: datasets/Train/COVID/2020.03.16.20035105-p6-64-3.png  \n",
            "  inflating: datasets/Train/COVID/2020.03.16.20035105-p6-64-4.png  \n",
            "  inflating: datasets/Train/COVID/2020.03.16.20036145-p19-128-1.png  \n",
            "  inflating: datasets/Train/COVID/2020.03.16.20036145-p19-128-2.png  \n",
            "  inflating: datasets/Train/COVID/2020.03.16.20036145-p19-128-3.png  \n",
            "  inflating: datasets/Train/COVID/2020.03.16.20036145-p19-128-4.png  \n",
            "  inflating: datasets/Train/COVID/2020.03.18.20038125-p15-54-2.png  \n",
            "  inflating: datasets/Train/COVID/2020.03.18.20038125-p15-54-4.png  \n",
            "  inflating: datasets/Train/COVID/2020.03.18.20038125-p15-54-5.png  \n",
            "  inflating: datasets/Train/COVID/2020.03.18.20038125-p15-54-6.png  \n",
            "  inflating: datasets/Train/COVID/2020.03.18.20038125-p16-56-1.png  \n",
            "  inflating: datasets/Train/COVID/2020.03.18.20038125-p16-56-2.png  \n",
            "  inflating: datasets/Train/COVID/2020.03.18.20038125-p16-56-3.png  \n",
            "  inflating: datasets/Train/COVID/2020.03.18.20038125-p16-56-4.png  \n",
            "  inflating: datasets/Train/COVID/2020.03.18.20038125-p16-56-5.png  \n",
            "  inflating: datasets/Train/COVID/2020.03.18.20038125-p16-56-6.png  \n",
            "  inflating: datasets/Train/COVID/2020.03.19.20038539-p10-57.png  \n",
            "  inflating: datasets/Train/COVID/2020.03.19.20038539-p10-58.png  \n",
            "  inflating: datasets/Train/COVID/2020.03.19.20038539-p10-59.png  \n",
            "  inflating: datasets/Train/COVID/2020.03.19.20038539-p10-60.png  \n",
            "  inflating: datasets/Train/COVID/2020.03.19.20038539-p10-61.png  \n",
            "  inflating: datasets/Train/COVID/2020.03.19.20038539-p10-62.png  \n",
            "  inflating: datasets/Train/COVID/2020.03.20.20037325-p23-121.png  \n",
            "  inflating: datasets/Train/COVID/2020.03.20.20037325-p23-122.png  \n",
            "  inflating: datasets/Train/COVID/2020.03.20.20037325-p23-123.png  \n",
            "  inflating: datasets/Train/COVID/2020.03.20.20037325-p23-124.png  \n",
            "  inflating: datasets/Train/COVID/2020.03.21.20040691-p18-6-6.png  \n",
            "  inflating: datasets/Train/COVID/2020.03.21.20040691-p18-67-1.png  \n",
            "  inflating: datasets/Train/COVID/2020.03.21.20040691-p18-67-2.png  \n",
            "  inflating: datasets/Train/COVID/2020.03.21.20040691-p18-67-3.png  \n",
            "  inflating: datasets/Train/COVID/2020.03.21.20040691-p18-67-4.png  \n",
            "  inflating: datasets/Train/COVID/2020.03.21.20040691-p18-67-5.png  \n",
            "  inflating: datasets/Train/COVID/2020.03.21.20040691-p18-67-7.png  \n",
            "  inflating: datasets/Train/COVID/2020.03.21.20040691-p18-67-8.png  \n",
            "  inflating: datasets/Train/COVID/2020.03.22.20034041-p16-66.png  \n",
            "  inflating: datasets/Train/COVID/2020.03.22.20034041-p17-80-1.png  \n",
            "  inflating: datasets/Train/COVID/2020.03.22.20034041-p17-80-2.png  \n",
            "  inflating: datasets/Train/COVID/2020.03.22.20034041-p18-92-1.png  \n",
            "  inflating: datasets/Train/COVID/2020.03.22.20034041-p18-92-2.png  \n",
            "  inflating: datasets/Train/COVID/2020.03.22.20034041-p18-92-3.png  \n",
            "  inflating: datasets/Train/COVID/2020.03.22.20040782-p24-1533-1.png  \n",
            "  inflating: datasets/Train/COVID/2020.03.22.20040782-p24-1533-2.png  \n",
            "  inflating: datasets/Train/COVID/2020.03.22.20040782-p24-1533-3.png  \n",
            "  inflating: datasets/Train/COVID/2020.03.22.20040782-p24-1533-4.png  \n",
            "  inflating: datasets/Train/COVID/2020.03.22.20040782-p24-1533-5.png  \n",
            "  inflating: datasets/Train/COVID/2020.03.22.20040782-p24-1533-6.png  \n",
            "  inflating: datasets/Train/COVID/2020.03.22.20040782-p24-1533-7.png  \n",
            "  inflating: datasets/Train/COVID/2020.03.22.20040782-p24-1533-8.png  \n",
            "  inflating: datasets/Train/COVID/2020.03.22.20040782-p25-1541.png  \n",
            "  inflating: datasets/Train/COVID/2020.03.22.20040782-p25-1542.png  \n",
            "  inflating: datasets/Train/COVID/2020.03.22.20040782-p25-1543.png  \n",
            "  inflating: datasets/Train/COVID/2020.03.22.20040782-p25-1544.png  \n",
            "  inflating: datasets/Train/COVID/2020.03.22.20040782-p25-1545.png  \n",
            "  inflating: datasets/Train/COVID/2020.03.22.20040782-p25-1546.png  \n",
            "  inflating: datasets/Train/COVID/2020.03.25.20037721-p27-165.png  \n",
            "  inflating: datasets/Train/COVID/2020.03.25.20037721-p27-172.png  \n",
            "  inflating: datasets/Train/COVID/2020.03.25.20037721-p27-173.png  \n",
            "  inflating: datasets/Train/COVID/2020.03.25.20037721-p27-174.png  \n",
            "  inflating: datasets/Train/COVID/2020.03.25.20037721-p27-181.png  \n",
            "  inflating: datasets/Train/COVID/2020.03.25.20037721-p27-182.png  \n",
            "  inflating: datasets/Train/COVID/2020.03.25.20043166-p17-78.png  \n",
            "  inflating: datasets/Train/COVID/2020.03.25.20043166-p17-79.png  \n",
            "  inflating: datasets/Train/COVID/2020.03.25.20043166-p17-80.png  \n",
            "  inflating: datasets/Train/COVID/2020.03.25.20043166-p17-81.png  \n",
            "  inflating: datasets/Train/COVID/2020.03.26.20041426-p11-119.png  \n",
            "  inflating: datasets/Train/COVID/2020.03.26.20041426-p11-120.png  \n",
            "  inflating: datasets/Train/COVID/2020.03.26.20041426-p11-121.png  \n",
            "  inflating: datasets/Train/COVID/2020.03.26.20041426-p11-122.png  \n",
            "  inflating: datasets/Train/COVID/2020.03.26.20041426-p11-123.png  \n",
            "  inflating: datasets/Train/COVID/2020.03.26.20041426-p11-124.png  \n",
            "  inflating: datasets/Train/COVID/2020.03.26.20041426-p11-125.png  \n",
            "  inflating: datasets/Train/COVID/2020.03.26.20041426-p11-126.png  \n",
            "  inflating: datasets/Train/COVID/2020.03.26.20041426-p11-127.png  \n",
            "  inflating: datasets/Train/COVID/2020.03.26.20041426-p11-128.png  \n",
            "  inflating: datasets/Train/COVID/2020.03.26.20041426-p11-130.png  \n",
            "  inflating: datasets/Train/COVID/2020.03.26.20041426-p11-131.png  \n",
            "  inflating: datasets/Train/COVID/2020.03.26.20041426-p11-132.png  \n",
            "  inflating: datasets/Train/COVID/2020.03.26.20041426-p11-133.png  \n",
            "  inflating: datasets/Train/COVID/2020.03.30.20047985-p9-56%0.png  \n",
            "  inflating: datasets/Train/COVID/2020.03.30.20047985-p9-56%1.png  \n",
            "  inflating: datasets/Train/COVID/2020.03.30.20047985-p9-56%2.png  \n",
            "  inflating: datasets/Train/COVID/2020.03.30.20047985-p9-56%3.png  \n",
            "  inflating: datasets/Train/COVID/bmj.m606.full-p4-22%0.png  \n",
            "  inflating: datasets/Train/COVID/bmj.m606.full-p4-22%1.png  \n",
            "  inflating: datasets/Train/COVID/bmj.m606.full-p4-22%2.png  \n",
            "  inflating: datasets/Train/COVID/bmj.m606.full-p4-22%3.png  \n",
            "  inflating: datasets/Train/COVID/bmj.m606.full-p4-22%4.png  \n",
            "  inflating: datasets/Train/COVID/bmj.m606.full-p4-22%5.png  \n",
            "  inflating: datasets/Train/COVID/bmj.m606.full-p4-22%6.png  \n",
            "  inflating: datasets/Train/COVID/bmj.m606.full-p4-22%7.png  \n",
            "  inflating: datasets/Train/COVID/Comparison-of-different-samples-for-2019-novel-cor_2020_International-Journa-p2-21%0.png  \n",
            "  inflating: datasets/Train/COVID/Comparison-of-different-samples-for-2019-novel-cor_2020_International-Journa-p2-21%1.png  \n",
            "  inflating: datasets/Train/COVID/Comparison-of-different-samples-for-2019-novel-cor_2020_International-Journa-p2-21%10.png  \n",
            "  inflating: datasets/Train/COVID/Comparison-of-different-samples-for-2019-novel-cor_2020_International-Journa-p2-21%11.png  \n",
            "  inflating: datasets/Train/COVID/Comparison-of-different-samples-for-2019-novel-cor_2020_International-Journa-p2-21%2.png  \n",
            "  inflating: datasets/Train/COVID/Comparison-of-different-samples-for-2019-novel-cor_2020_International-Journa-p2-21%3.png  \n",
            "  inflating: datasets/Train/COVID/Comparison-of-different-samples-for-2019-novel-cor_2020_International-Journa-p2-21%4.png  \n",
            "  inflating: datasets/Train/COVID/Comparison-of-different-samples-for-2019-novel-cor_2020_International-Journa-p2-21%5.png  \n",
            "  inflating: datasets/Train/COVID/Comparison-of-different-samples-for-2019-novel-cor_2020_International-Journa-p2-21%6.png  \n",
            "  inflating: datasets/Train/COVID/Comparison-of-different-samples-for-2019-novel-cor_2020_International-Journa-p2-21%7.png  \n",
            "  inflating: datasets/Train/COVID/Comparison-of-different-samples-for-2019-novel-cor_2020_International-Journa-p2-21%8.png  \n",
            "  inflating: datasets/Train/COVID/Comparison-of-different-samples-for-2019-novel-cor_2020_International-Journa-p2-21%9.png  \n",
            "  inflating: datasets/Train/COVID/ehaa254-p0-63%2.png  \n",
            "  inflating: datasets/Train/COVID/ehaa254-p0-63%3.png  \n",
            "  inflating: datasets/Train/COVID/impact_of_covid19_infection_on_pregnancy_outcomes_and_the_risk_of_maternaltoneonatal_intrapartum_transmission_of_covid19_during_natural_birth-p8-41%1.png  \n",
            "  inflating: datasets/Train/COVID/impact_of_covid19_infection_on_pregnancy_outcomes_and_the_risk_of_maternaltoneonatal_intrapartum_transmission_of_covid19_during_natural_birth-p8-41%3.png  \n",
            "  inflating: datasets/Train/COVID/impact_of_covid19_infection_on_pregnancy_outcomes_and_the_risk_of_maternaltoneonatal_intrapartum_transmission_of_covid19_during_natural_birth-p8-41%5.png  \n",
            "  inflating: datasets/Train/COVID/kjr-21-e24-p2-8.png  \n",
            "  inflating: datasets/Train/COVID/kjr-21-e24-p3-16.png  \n",
            "  inflating: datasets/Train/COVID/kjr-21-e24-p5-29.png  \n",
            "  inflating: datasets/Train/COVID/kjr-21-e24-p5-31.png  \n",
            "  inflating: datasets/Train/COVID/kjr-21-e25-p1-10.png  \n",
            "  inflating: datasets/Train/COVID/kjr-21-e25-p1-12.png  \n",
            "  inflating: datasets/Train/COVID/kjr-21-e25-p1-14.png  \n",
            "  inflating: datasets/Train/COVID/kjr-21-e25-p1-6.png  \n",
            "  inflating: datasets/Train/COVID/kjr-21-e25-p1-8.png  \n",
            "  inflating: datasets/Train/COVID/med-9780198814924-chapter-17-p10-515.png  \n",
            "  inflating: datasets/Train/COVID/Ni2020_Article_CombinationOfWesternMedicineAn-p3-10%0.png  \n",
            "  inflating: datasets/Train/COVID/Ni2020_Article_CombinationOfWesternMedicineAn-p3-10%1.png  \n",
            "  inflating: datasets/Train/COVID/Ni2020_Article_CombinationOfWesternMedicineAn-p4-13%0.png  \n",
            "  inflating: datasets/Train/COVID/Ni2020_Article_CombinationOfWesternMedicineAn-p4-13%1.png  \n",
            "  inflating: datasets/Train/COVID/PIIS0140673620301549_0%0.png  \n",
            "  inflating: datasets/Train/COVID/PIIS0140673620301549_0%1.png  \n",
            "  inflating: datasets/Train/COVID/PIIS0140673620301549_1.png  \n",
            "  inflating: datasets/Train/COVID/PIIS0140673620301549_2.png  \n",
            "  inflating: datasets/Train/COVID/PIIS0140673620302117_1.png  \n",
            "  inflating: datasets/Train/COVID/PIIS0140673620302117_2.png  \n",
            "  inflating: datasets/Train/COVID/PIIS0140673620303603%0.png  \n",
            "  inflating: datasets/Train/COVID/PIIS0140673620303603%1.png  \n",
            "  inflating: datasets/Train/COVID/PIIS0140673620303603%2.png  \n",
            "  inflating: datasets/Train/COVID/PIIS0140673620303603%3.png  \n",
            "  inflating: datasets/Train/COVID/PIIS0140673620303603%4.png  \n",
            "  inflating: datasets/Train/COVID/PIIS0140673620303603%5.png  \n",
            "  inflating: datasets/Train/COVID/PIIS0140673620303603%6.png  \n",
            "  inflating: datasets/Train/COVID/PIIS0140673620303603%7.png  \n",
            "  inflating: datasets/Train/COVID/PIIS0140673620303603%8.png  \n",
            "  inflating: datasets/Train/COVID/Recurrence-of-positive-SARS-CoV-2-RNA-in-C_2020_International-Journal-of-Inf-p1-21%0.png  \n",
            "  inflating: datasets/Train/COVID/Recurrence-of-positive-SARS-CoV-2-RNA-in-C_2020_International-Journal-of-Inf-p1-21%1.png  \n",
            "  inflating: datasets/Train/COVID/Talaromyces-marneffei-infection-relapse-presenting-as-ost_2020_International-p1-12%0.png  \n",
            "  inflating: datasets/Train/COVID/Talaromyces-marneffei-infection-relapse-presenting-as-ost_2020_International-p1-12%1.png  \n",
            "  inflating: datasets/Train/COVID/Talaromyces-marneffei-infection-relapse-presenting-as-ost_2020_International-p1-12%2.png  \n",
            "  inflating: datasets/Train/COVID/Talaromyces-marneffei-infection-relapse-presenting-as-ost_2020_International-p1-12%3.png  \n",
            "   creating: datasets/Train/NON_COVID/\n",
            "  inflating: datasets/Train/NON_COVID/102.png  \n",
            "  inflating: datasets/Train/NON_COVID/1029.png  \n",
            "  inflating: datasets/Train/NON_COVID/103.png  \n",
            "  inflating: datasets/Train/NON_COVID/1030.png  \n",
            "  inflating: datasets/Train/NON_COVID/104.png  \n",
            "  inflating: datasets/Train/NON_COVID/1046.png  \n",
            "  inflating: datasets/Train/NON_COVID/1047.png  \n",
            "  inflating: datasets/Train/NON_COVID/1048.png  \n",
            "  inflating: datasets/Train/NON_COVID/1049.png  \n",
            "  inflating: datasets/Train/NON_COVID/1050.png  \n",
            "  inflating: datasets/Train/NON_COVID/1058.png  \n",
            "  inflating: datasets/Train/NON_COVID/1059.png  \n",
            "  inflating: datasets/Train/NON_COVID/1060.png  \n",
            "  inflating: datasets/Train/NON_COVID/1061.png  \n",
            "  inflating: datasets/Train/NON_COVID/1062.png  \n",
            "  inflating: datasets/Train/NON_COVID/1065.png  \n",
            "  inflating: datasets/Train/NON_COVID/1070.png  \n",
            "  inflating: datasets/Train/NON_COVID/1071.png  \n",
            "  inflating: datasets/Train/NON_COVID/1072.png  \n",
            "  inflating: datasets/Train/NON_COVID/1078.png  \n",
            "  inflating: datasets/Train/NON_COVID/1079.png  \n",
            "  inflating: datasets/Train/NON_COVID/1093.png  \n",
            "  inflating: datasets/Train/NON_COVID/1094.png  \n",
            "  inflating: datasets/Train/NON_COVID/1098.png  \n",
            "  inflating: datasets/Train/NON_COVID/1099.png  \n",
            "  inflating: datasets/Train/NON_COVID/1100.png  \n",
            "  inflating: datasets/Train/NON_COVID/1101.png  \n",
            "  inflating: datasets/Train/NON_COVID/1115.png  \n",
            "  inflating: datasets/Train/NON_COVID/112.png  \n",
            "  inflating: datasets/Train/NON_COVID/1123.png  \n",
            "  inflating: datasets/Train/NON_COVID/1124.png  \n",
            "  inflating: datasets/Train/NON_COVID/114.png  \n",
            "  inflating: datasets/Train/NON_COVID/115.png  \n",
            "  inflating: datasets/Train/NON_COVID/116.png  \n",
            "  inflating: datasets/Train/NON_COVID/1164.png  \n",
            "  inflating: datasets/Train/NON_COVID/117.png  \n",
            "  inflating: datasets/Train/NON_COVID/118.png  \n",
            "  inflating: datasets/Train/NON_COVID/120.png  \n",
            "  inflating: datasets/Train/NON_COVID/1210.png  \n",
            "  inflating: datasets/Train/NON_COVID/1211.png  \n",
            "  inflating: datasets/Train/NON_COVID/1212.png  \n",
            "  inflating: datasets/Train/NON_COVID/1213.png  \n",
            "  inflating: datasets/Train/NON_COVID/1214.png  \n",
            "  inflating: datasets/Train/NON_COVID/1215.png  \n",
            "  inflating: datasets/Train/NON_COVID/1216.png  \n",
            "  inflating: datasets/Train/NON_COVID/1217.png  \n",
            "  inflating: datasets/Train/NON_COVID/1218.png  \n",
            "  inflating: datasets/Train/NON_COVID/1221.png  \n",
            "  inflating: datasets/Train/NON_COVID/1238.png  \n",
            "  inflating: datasets/Train/NON_COVID/1239.png  \n",
            "  inflating: datasets/Train/NON_COVID/1240.png  \n",
            "  inflating: datasets/Train/NON_COVID/1261.png  \n",
            "  inflating: datasets/Train/NON_COVID/1262.png  \n",
            "  inflating: datasets/Train/NON_COVID/1263.png  \n",
            "  inflating: datasets/Train/NON_COVID/1264.png  \n",
            "  inflating: datasets/Train/NON_COVID/1277.png  \n",
            "  inflating: datasets/Train/NON_COVID/1297.png  \n",
            "  inflating: datasets/Train/NON_COVID/1298.png  \n",
            "  inflating: datasets/Train/NON_COVID/1305.png  \n",
            "  inflating: datasets/Train/NON_COVID/1306.png  \n",
            "  inflating: datasets/Train/NON_COVID/1307.png  \n",
            "  inflating: datasets/Train/NON_COVID/1308.png  \n",
            "  inflating: datasets/Train/NON_COVID/1309.png  \n",
            "  inflating: datasets/Train/NON_COVID/1310.png  \n",
            "  inflating: datasets/Train/NON_COVID/1312.png  \n",
            "  inflating: datasets/Train/NON_COVID/1313.png  \n",
            "  inflating: datasets/Train/NON_COVID/1328.png  \n",
            "  inflating: datasets/Train/NON_COVID/1330.png  \n",
            "  inflating: datasets/Train/NON_COVID/1331.png  \n",
            "  inflating: datasets/Train/NON_COVID/1332.png  \n",
            "  inflating: datasets/Train/NON_COVID/1333.png  \n",
            "  inflating: datasets/Train/NON_COVID/1335.png  \n",
            "  inflating: datasets/Train/NON_COVID/1336.png  \n",
            "  inflating: datasets/Train/NON_COVID/1428.png  \n",
            "  inflating: datasets/Train/NON_COVID/1463.png  \n",
            "  inflating: datasets/Train/NON_COVID/1497.png  \n",
            "  inflating: datasets/Train/NON_COVID/1498.png  \n",
            "  inflating: datasets/Train/NON_COVID/1499.png  \n",
            "  inflating: datasets/Train/NON_COVID/1500.png  \n",
            "  inflating: datasets/Train/NON_COVID/1501.png  \n",
            "  inflating: datasets/Train/NON_COVID/1561.png  \n",
            "  inflating: datasets/Train/NON_COVID/1562.png  \n",
            "  inflating: datasets/Train/NON_COVID/1575.png  \n",
            "  inflating: datasets/Train/NON_COVID/1576.png  \n",
            "  inflating: datasets/Train/NON_COVID/1577.png  \n",
            "  inflating: datasets/Train/NON_COVID/158.png  \n",
            "  inflating: datasets/Train/NON_COVID/1638.png  \n",
            "  inflating: datasets/Train/NON_COVID/166.png  \n",
            "  inflating: datasets/Train/NON_COVID/167.png  \n",
            "  inflating: datasets/Train/NON_COVID/1702.png  \n",
            "  inflating: datasets/Train/NON_COVID/171.png  \n",
            "  inflating: datasets/Train/NON_COVID/174.png  \n",
            "  inflating: datasets/Train/NON_COVID/176.png  \n",
            "  inflating: datasets/Train/NON_COVID/177.png  \n",
            "  inflating: datasets/Train/NON_COVID/1814.png  \n",
            "  inflating: datasets/Train/NON_COVID/1845.png  \n",
            "  inflating: datasets/Train/NON_COVID/1846.png  \n",
            "  inflating: datasets/Train/NON_COVID/1857.png  \n",
            "  inflating: datasets/Train/NON_COVID/1858.png  \n",
            "  inflating: datasets/Train/NON_COVID/1859.png  \n",
            "  inflating: datasets/Train/NON_COVID/1868.png  \n",
            "  inflating: datasets/Train/NON_COVID/1876.png  \n",
            "  inflating: datasets/Train/NON_COVID/1877.png  \n",
            "  inflating: datasets/Train/NON_COVID/1888.png  \n",
            "  inflating: datasets/Train/NON_COVID/1889.png  \n",
            "  inflating: datasets/Train/NON_COVID/1919.png  \n",
            "  inflating: datasets/Train/NON_COVID/1920.png  \n",
            "  inflating: datasets/Train/NON_COVID/1921.png  \n",
            "  inflating: datasets/Train/NON_COVID/1922.png  \n",
            "  inflating: datasets/Train/NON_COVID/1923.png  \n",
            "  inflating: datasets/Train/NON_COVID/1924.png  \n",
            "  inflating: datasets/Train/NON_COVID/1952.png  \n",
            "  inflating: datasets/Train/NON_COVID/2007.png  \n",
            "  inflating: datasets/Train/NON_COVID/2039.png  \n",
            "  inflating: datasets/Train/NON_COVID/2040.png  \n",
            "  inflating: datasets/Train/NON_COVID/2041.png  \n",
            "  inflating: datasets/Train/NON_COVID/2108.png  \n",
            "  inflating: datasets/Train/NON_COVID/2138.png  \n",
            "  inflating: datasets/Train/NON_COVID/2139.png  \n",
            "  inflating: datasets/Train/NON_COVID/2140.png  \n",
            "  inflating: datasets/Train/NON_COVID/2141.png  \n",
            "  inflating: datasets/Train/NON_COVID/2142.png  \n",
            "  inflating: datasets/Train/NON_COVID/2143.png  \n",
            "  inflating: datasets/Train/NON_COVID/2144.png  \n",
            "  inflating: datasets/Train/NON_COVID/2145.png  \n",
            "  inflating: datasets/Train/NON_COVID/2237.png  \n",
            "  inflating: datasets/Train/NON_COVID/226.png  \n",
            "  inflating: datasets/Train/NON_COVID/227.png  \n",
            "  inflating: datasets/Train/NON_COVID/2341.png  \n",
            "  inflating: datasets/Train/NON_COVID/294.png  \n",
            "  inflating: datasets/Train/NON_COVID/354.png  \n",
            "  inflating: datasets/Train/NON_COVID/361.png  \n",
            "  inflating: datasets/Train/NON_COVID/378.png  \n",
            "  inflating: datasets/Train/NON_COVID/381.png  \n",
            "  inflating: datasets/Train/NON_COVID/382.png  \n",
            "  inflating: datasets/Train/NON_COVID/383.png  \n",
            "  inflating: datasets/Train/NON_COVID/385.png  \n",
            "  inflating: datasets/Train/NON_COVID/39%6.jpg  \n",
            "  inflating: datasets/Train/NON_COVID/39%7.jpg  \n",
            "  inflating: datasets/Train/NON_COVID/39%8.jpg  \n",
            "  inflating: datasets/Train/NON_COVID/40%0.jpg  \n",
            "  inflating: datasets/Train/NON_COVID/40%1.jpg  \n",
            "  inflating: datasets/Train/NON_COVID/41.jpg  \n",
            "  inflating: datasets/Train/NON_COVID/412.png  \n",
            "  inflating: datasets/Train/NON_COVID/413.png  \n",
            "  inflating: datasets/Train/NON_COVID/414.png  \n",
            "  inflating: datasets/Train/NON_COVID/42.jpg  \n",
            "  inflating: datasets/Train/NON_COVID/43%1.jpg  \n",
            "  inflating: datasets/Train/NON_COVID/43%2.jpg  \n",
            "  inflating: datasets/Train/NON_COVID/43%3.jpg  \n",
            "  inflating: datasets/Train/NON_COVID/43.png  \n",
            "  inflating: datasets/Train/NON_COVID/44%0.jpg  \n",
            "  inflating: datasets/Train/NON_COVID/44%1.jpg  \n",
            "  inflating: datasets/Train/NON_COVID/44.png  \n",
            "  inflating: datasets/Train/NON_COVID/45.jpg  \n",
            "  inflating: datasets/Train/NON_COVID/452.png  \n",
            "  inflating: datasets/Train/NON_COVID/46.jpg  \n",
            "  inflating: datasets/Train/NON_COVID/47.jpg  \n",
            "  inflating: datasets/Train/NON_COVID/48.jpg  \n",
            "  inflating: datasets/Train/NON_COVID/486.png  \n",
            "  inflating: datasets/Train/NON_COVID/487.png  \n",
            "  inflating: datasets/Train/NON_COVID/49%0.jpg  \n",
            "  inflating: datasets/Train/NON_COVID/49%1.jpg  \n",
            "  inflating: datasets/Train/NON_COVID/50.jpg  \n",
            "  inflating: datasets/Train/NON_COVID/51%0.jpg  \n",
            "  inflating: datasets/Train/NON_COVID/51%1.jpg  \n",
            "  inflating: datasets/Train/NON_COVID/51%2.jpg  \n",
            "  inflating: datasets/Train/NON_COVID/51%3.jpg  \n",
            "  inflating: datasets/Train/NON_COVID/52%0.jpg  \n",
            "  inflating: datasets/Train/NON_COVID/52%1.jpg  \n",
            "  inflating: datasets/Train/NON_COVID/53.jpg  \n",
            "  inflating: datasets/Train/NON_COVID/54%0.jpg  \n",
            "  inflating: datasets/Train/NON_COVID/54%1.jpg  \n",
            "  inflating: datasets/Train/NON_COVID/54%2.jpg  \n",
            "  inflating: datasets/Train/NON_COVID/54%3.jpg  \n",
            "  inflating: datasets/Train/NON_COVID/56%0.jpg  \n",
            "  inflating: datasets/Train/NON_COVID/56%1.jpg  \n",
            "  inflating: datasets/Train/NON_COVID/57%0.jpg  \n",
            "  inflating: datasets/Train/NON_COVID/575.png  \n",
            "  inflating: datasets/Train/NON_COVID/576.png  \n",
            "  inflating: datasets/Train/NON_COVID/577.png  \n",
            "  inflating: datasets/Train/NON_COVID/578.png  \n",
            "  inflating: datasets/Train/NON_COVID/579.png  \n",
            "  inflating: datasets/Train/NON_COVID/580.png  \n",
            "  inflating: datasets/Train/NON_COVID/583.png  \n",
            "  inflating: datasets/Train/NON_COVID/584.png  \n",
            "  inflating: datasets/Train/NON_COVID/585.png  \n",
            "  inflating: datasets/Train/NON_COVID/586.png  \n",
            "  inflating: datasets/Train/NON_COVID/587.png  \n",
            "  inflating: datasets/Train/NON_COVID/59%0.jpg  \n",
            "  inflating: datasets/Train/NON_COVID/59.png  \n",
            "  inflating: datasets/Train/NON_COVID/590.png  \n",
            "  inflating: datasets/Train/NON_COVID/591.png  \n",
            "  inflating: datasets/Train/NON_COVID/592.png  \n",
            "  inflating: datasets/Train/NON_COVID/60.jpg  \n",
            "  inflating: datasets/Train/NON_COVID/62.jpg  \n",
            "  inflating: datasets/Train/NON_COVID/63%0.jpg  \n",
            "  inflating: datasets/Train/NON_COVID/63%1.jpg  \n",
            "  inflating: datasets/Train/NON_COVID/63%2.jpg  \n",
            "  inflating: datasets/Train/NON_COVID/63%3.jpg  \n",
            "  inflating: datasets/Train/NON_COVID/63%4.jpg  \n",
            "  inflating: datasets/Train/NON_COVID/63%5.jpg  \n",
            "  inflating: datasets/Train/NON_COVID/63%6.jpg  \n",
            "  inflating: datasets/Train/NON_COVID/63%7.jpg  \n",
            "  inflating: datasets/Train/NON_COVID/64.jpg  \n",
            "  inflating: datasets/Train/NON_COVID/65%0.jpg  \n",
            "  inflating: datasets/Train/NON_COVID/65%1.jpg  \n",
            "  inflating: datasets/Train/NON_COVID/65%2.jpg  \n",
            "  inflating: datasets/Train/NON_COVID/65%3.jpg  \n",
            "  inflating: datasets/Train/NON_COVID/65%4.jpg  \n",
            "  inflating: datasets/Train/NON_COVID/658.png  \n",
            "  inflating: datasets/Train/NON_COVID/66.jpg  \n",
            "  inflating: datasets/Train/NON_COVID/660.png  \n",
            "  inflating: datasets/Train/NON_COVID/661.png  \n",
            "  inflating: datasets/Train/NON_COVID/662.png  \n",
            "  inflating: datasets/Train/NON_COVID/663.png  \n",
            "  inflating: datasets/Train/NON_COVID/67%0.jpg  \n",
            "  inflating: datasets/Train/NON_COVID/67%1.jpg  \n",
            "  inflating: datasets/Train/NON_COVID/67%2.jpg  \n",
            "  inflating: datasets/Train/NON_COVID/672.png  \n",
            "  inflating: datasets/Train/NON_COVID/673.png  \n",
            "  inflating: datasets/Train/NON_COVID/68.jpg  \n",
            "  inflating: datasets/Train/NON_COVID/69%0.jpg  \n",
            "  inflating: datasets/Train/NON_COVID/69%1.jpg  \n",
            "  inflating: datasets/Train/NON_COVID/70%0.jpg  \n",
            "  inflating: datasets/Train/NON_COVID/70%1.jpg  \n",
            "  inflating: datasets/Train/NON_COVID/704.png  \n",
            "  inflating: datasets/Train/NON_COVID/705.png  \n",
            "  inflating: datasets/Train/NON_COVID/706.png  \n",
            "  inflating: datasets/Train/NON_COVID/709.png  \n",
            "  inflating: datasets/Train/NON_COVID/71%0.jpg  \n",
            "  inflating: datasets/Train/NON_COVID/71%1.jpg  \n",
            "  inflating: datasets/Train/NON_COVID/72.jpg  \n",
            "  inflating: datasets/Train/NON_COVID/73.jpg  \n",
            "  inflating: datasets/Train/NON_COVID/74.jpg  \n",
            "  inflating: datasets/Train/NON_COVID/75%0.jpg  \n",
            "  inflating: datasets/Train/NON_COVID/75%1.jpg  \n",
            "  inflating: datasets/Train/NON_COVID/753.png  \n",
            "  inflating: datasets/Train/NON_COVID/754.png  \n",
            "  inflating: datasets/Train/NON_COVID/76%0.jpg  \n",
            "  inflating: datasets/Train/NON_COVID/76%1.jpg  \n",
            "  inflating: datasets/Train/NON_COVID/76%2.jpg  \n",
            "  inflating: datasets/Train/NON_COVID/77.jpg  \n",
            "  inflating: datasets/Train/NON_COVID/78.jpg  \n",
            "  inflating: datasets/Train/NON_COVID/781.png  \n",
            "  inflating: datasets/Train/NON_COVID/782.png  \n",
            "  inflating: datasets/Train/NON_COVID/79.jpg  \n",
            "  inflating: datasets/Train/NON_COVID/80%0.jpg  \n",
            "  inflating: datasets/Train/NON_COVID/80%1.jpg  \n",
            "  inflating: datasets/Train/NON_COVID/81%0.jpg  \n",
            "  inflating: datasets/Train/NON_COVID/81%1.jpg  \n",
            "  inflating: datasets/Train/NON_COVID/81%2.jpg  \n",
            "  inflating: datasets/Train/NON_COVID/81%3.jpg  \n",
            "  inflating: datasets/Train/NON_COVID/81.png  \n",
            "  inflating: datasets/Train/NON_COVID/82%0.jpg  \n",
            "  inflating: datasets/Train/NON_COVID/82%1.jpg  \n",
            "  inflating: datasets/Train/NON_COVID/82%2.jpg  \n",
            "  inflating: datasets/Train/NON_COVID/82%3.jpg  \n",
            "  inflating: datasets/Train/NON_COVID/82.png  \n",
            "  inflating: datasets/Train/NON_COVID/83%0.jpg  \n",
            "  inflating: datasets/Train/NON_COVID/83%1.jpg  \n",
            "  inflating: datasets/Train/NON_COVID/83%2.jpg  \n",
            "  inflating: datasets/Train/NON_COVID/83%3.jpg  \n",
            "  inflating: datasets/Train/NON_COVID/84%0.jpg  \n",
            "  inflating: datasets/Train/NON_COVID/84%1.jpg  \n",
            "  inflating: datasets/Train/NON_COVID/84%2.jpg  \n",
            "  inflating: datasets/Train/NON_COVID/84%3.jpg  \n",
            "  inflating: datasets/Train/NON_COVID/848.png  \n",
            "  inflating: datasets/Train/NON_COVID/849.png  \n",
            "  inflating: datasets/Train/NON_COVID/85%0.jpg  \n",
            "  inflating: datasets/Train/NON_COVID/85%1.jpg  \n",
            "  inflating: datasets/Train/NON_COVID/86.jpg  \n",
            "  inflating: datasets/Train/NON_COVID/88.jpg  \n",
            "  inflating: datasets/Train/NON_COVID/887.png  \n",
            "  inflating: datasets/Train/NON_COVID/889.png  \n",
            "  inflating: datasets/Train/NON_COVID/89%2.jpg  \n",
            "  inflating: datasets/Train/NON_COVID/89%3.jpg  \n",
            "  inflating: datasets/Train/NON_COVID/890.png  \n",
            "  inflating: datasets/Train/NON_COVID/90.jpg  \n",
            "  inflating: datasets/Train/NON_COVID/91%0.jpg  \n",
            "  inflating: datasets/Train/NON_COVID/91%1.jpg  \n",
            "  inflating: datasets/Train/NON_COVID/921.png  \n",
            "  inflating: datasets/Train/NON_COVID/956.png  \n",
            "  inflating: datasets/Train/NON_COVID/957.png  \n",
            "  inflating: datasets/Train/NON_COVID/969.png  \n",
            "  inflating: datasets/Train/NON_COVID/996.png  \n",
            "  inflating: datasets/Train/NON_COVID/997.png  \n",
            "   creating: datasets/Validation/\n",
            "   creating: datasets/Validation/COVID/\n",
            "  inflating: datasets/Validation/COVID/2019-novel-Coronavirus-severe-adult-respiratory-dist_2020_International-Jour-p3-89%0.png  \n",
            "  inflating: datasets/Validation/COVID/2019-novel-Coronavirus-severe-adult-respiratory-dist_2020_International-Jour-p3-89%1.png  \n",
            "  inflating: datasets/Validation/COVID/2019-novel-Coronavirus-severe-adult-respiratory-dist_2020_International-Jour-p3-91.png  \n",
            "  inflating: datasets/Validation/COVID/2020.01.24.919183-p27-132.png  \n",
            "  inflating: datasets/Validation/COVID/2020.01.24.919183-p27-133.png  \n",
            "  inflating: datasets/Validation/COVID/2020.01.24.919183-p27-134.png  \n",
            "  inflating: datasets/Validation/COVID/2020.01.24.919183-p27-135.png  \n",
            "  inflating: datasets/Validation/COVID/2020.02.10.20021584-p6-52%0.png  \n",
            "  inflating: datasets/Validation/COVID/2020.02.10.20021584-p6-52%1.png  \n",
            "  inflating: datasets/Validation/COVID/2020.02.10.20021584-p6-52%10.png  \n",
            "  inflating: datasets/Validation/COVID/2020.02.10.20021584-p6-52%11.png  \n",
            "  inflating: datasets/Validation/COVID/2020.02.10.20021584-p6-52%12.png  \n",
            "  inflating: datasets/Validation/COVID/2020.02.10.20021584-p6-52%13.png  \n",
            "  inflating: datasets/Validation/COVID/2020.02.10.20021584-p6-52%14.png  \n",
            "  inflating: datasets/Validation/COVID/2020.02.10.20021584-p6-52%15.png  \n",
            "  inflating: datasets/Validation/COVID/2020.02.10.20021584-p6-52%2.png  \n",
            "  inflating: datasets/Validation/COVID/2020.02.10.20021584-p6-52%3.png  \n",
            "  inflating: datasets/Validation/COVID/2020.02.10.20021584-p6-52%4.png  \n",
            "  inflating: datasets/Validation/COVID/2020.02.10.20021584-p6-52%5.png  \n",
            "  inflating: datasets/Validation/COVID/2020.02.10.20021584-p6-52%6.png  \n",
            "  inflating: datasets/Validation/COVID/2020.02.10.20021584-p6-52%7.png  \n",
            "  inflating: datasets/Validation/COVID/2020.02.10.20021584-p6-52%8.png  \n",
            "  inflating: datasets/Validation/COVID/2020.02.10.20021584-p6-52%9.png  \n",
            "  inflating: datasets/Validation/COVID/2020.02.11.20021493-p16-109%0.png  \n",
            "  inflating: datasets/Validation/COVID/2020.02.11.20021493-p16-109%1.png  \n",
            "  inflating: datasets/Validation/COVID/2020.02.11.20021493-p16-109%2.png  \n",
            "  inflating: datasets/Validation/COVID/2020.02.11.20022053-p12-67%0.png  \n",
            "  inflating: datasets/Validation/COVID/2020.02.11.20022053-p12-67%1.png  \n",
            "  inflating: datasets/Validation/COVID/2020.02.11.20022053-p12-67%2.png  \n",
            "  inflating: datasets/Validation/COVID/2020.02.11.20022053-p12-67%3.png  \n",
            "  inflating: datasets/Validation/COVID/2020.02.13.20022673-p13-77%0.png  \n",
            "  inflating: datasets/Validation/COVID/2020.02.13.20022673-p13-77%1.png  \n",
            "  inflating: datasets/Validation/COVID/2020.02.13.20022673-p13-77%2.png  \n",
            "  inflating: datasets/Validation/COVID/2020.02.17.20024018-p17-61%0.png  \n",
            "  inflating: datasets/Validation/COVID/2020.02.17.20024018-p17-61%1.png  \n",
            "  inflating: datasets/Validation/COVID/2020.02.17.20024018-p17-61%2.png  \n",
            "  inflating: datasets/Validation/COVID/2020.02.17.20024018-p17-61%3.png  \n",
            "  inflating: datasets/Validation/COVID/2020.02.17.20024018-p17-61%4.png  \n",
            "  inflating: datasets/Validation/COVID/2020.02.19.20025023-p20-93%0.png  \n",
            "  inflating: datasets/Validation/COVID/2020.02.19.20025023-p20-93%1.png  \n",
            "  inflating: datasets/Validation/COVID/2020.02.19.20025023-p20-93%2.png  \n",
            "  inflating: datasets/Validation/COVID/2020.02.19.20025023-p20-93%3.png  \n",
            "  inflating: datasets/Validation/COVID/2020.02.22.20024927-p18-66%0.png  \n",
            "  inflating: datasets/Validation/COVID/2020.02.22.20024927-p18-66%1.png  \n",
            "  inflating: datasets/Validation/COVID/2020.02.22.20024927-p18-66%2.png  \n",
            "  inflating: datasets/Validation/COVID/2020.02.22.20024927-p19-68%0.png  \n",
            "  inflating: datasets/Validation/COVID/2020.02.22.20024927-p19-68%1.png  \n",
            "  inflating: datasets/Validation/COVID/2020.02.22.20024927-p19-68%2.png  \n",
            "  inflating: datasets/Validation/COVID/2020.02.22.20024927-p19-68%3.png  \n",
            "  inflating: datasets/Validation/COVID/2020.02.22.20024927-p19-68%4.png  \n",
            "  inflating: datasets/Validation/COVID/2020.02.22.20024927-p19-68%5.png  \n",
            "  inflating: datasets/Validation/COVID/2020.02.22.20024927-p20-70%0.png  \n",
            "  inflating: datasets/Validation/COVID/2020.02.22.20024927-p20-70%1.png  \n",
            "  inflating: datasets/Validation/COVID/2020.02.22.20024927-p20-70%2.png  \n",
            "  inflating: datasets/Validation/COVID/2020.02.22.20024927-p20-70%3.png  \n",
            "  inflating: datasets/Validation/COVID/2020.02.23.20026856-p17-115%0.png  \n",
            "  inflating: datasets/Validation/COVID/2020.02.23.20026856-p17-115%1.png  \n",
            "  inflating: datasets/Validation/COVID/2020.02.23.20026856-p17-115%2.png  \n",
            "  inflating: datasets/Validation/COVID/2020.02.23.20026856-p17-115%3.png  \n",
            "  inflating: datasets/Validation/COVID/2020.02.23.20026856-p17-115%4.png  \n",
            "  inflating: datasets/Validation/COVID/2020.02.23.20026856-p17-115%5.png  \n",
            "  inflating: datasets/Validation/COVID/2020.02.24.20027052-p8-73%0.png  \n",
            "  inflating: datasets/Validation/COVID/2020.02.24.20027052-p8-73%1.png  \n",
            "  inflating: datasets/Validation/COVID/2020.02.24.20027052-p8-73%2.png  \n",
            "  inflating: datasets/Validation/COVID/2020.02.24.20027052-p8-73%3.png  \n",
            "  inflating: datasets/Validation/COVID/2020.02.24.20027201-p19-669.png  \n",
            "  inflating: datasets/Validation/COVID/2020.02.24.20027201-p19-670.png  \n",
            "  inflating: datasets/Validation/COVID/2020.02.25.20021568-p23-108%0.png  \n",
            "  inflating: datasets/Validation/COVID/2020.02.25.20021568-p23-108%1.png  \n",
            "  inflating: datasets/Validation/COVID/2020.02.25.20021568-p23-108%10.png  \n",
            "  inflating: datasets/Validation/COVID/2020.02.25.20021568-p23-108%11.png  \n",
            "  inflating: datasets/Validation/COVID/2020.02.25.20021568-p23-108%12.png  \n",
            "  inflating: datasets/Validation/COVID/2020.02.25.20021568-p23-108%13.png  \n",
            "  inflating: datasets/Validation/COVID/2020.02.25.20021568-p23-108%14.png  \n",
            "  inflating: datasets/Validation/COVID/2020.02.25.20021568-p23-108%15.png  \n",
            "  inflating: datasets/Validation/COVID/2020.02.25.20021568-p23-108%2.png  \n",
            "  inflating: datasets/Validation/COVID/2020.02.25.20021568-p23-108%3.png  \n",
            "  inflating: datasets/Validation/COVID/2020.02.25.20021568-p23-108%4.png  \n",
            "  inflating: datasets/Validation/COVID/2020.02.25.20021568-p23-108%5.png  \n",
            "  inflating: datasets/Validation/COVID/2020.02.25.20021568-p23-108%6.png  \n",
            "  inflating: datasets/Validation/COVID/2020.02.25.20021568-p23-108%7.png  \n",
            "  inflating: datasets/Validation/COVID/2020.02.25.20021568-p23-108%8.png  \n",
            "  inflating: datasets/Validation/COVID/2020.02.25.20021568-p23-108%9.png  \n",
            "  inflating: datasets/Validation/COVID/2020.02.25.20021568-p24-111%0.png  \n",
            "  inflating: datasets/Validation/COVID/2020.02.25.20021568-p24-111%1.png  \n",
            "  inflating: datasets/Validation/COVID/2020.02.25.20021568-p24-111%2.png  \n",
            "  inflating: datasets/Validation/COVID/2020.02.25.20021568-p24-111%3.png  \n",
            "  inflating: datasets/Validation/COVID/2020.02.25.20021568-p24-111%4.png  \n",
            "  inflating: datasets/Validation/COVID/2020.02.25.20021568-p24-111%5.png  \n",
            "  inflating: datasets/Validation/COVID/2020.02.25.20021568-p24-111%6.png  \n",
            "  inflating: datasets/Validation/COVID/2020.02.25.20021568-p24-111%7.png  \n",
            "  inflating: datasets/Validation/COVID/2020.02.25.20021568-p24-111%8.png  \n",
            "  inflating: datasets/Validation/COVID/2020.02.25.20021568-p24-111%9.png  \n",
            "  inflating: datasets/Validation/COVID/2020.02.25.20027763-p15-53%0.png  \n",
            "  inflating: datasets/Validation/COVID/2020.02.25.20027763-p15-53%1.png  \n",
            "  inflating: datasets/Validation/COVID/2020.02.26.20026989-p34-114_1%0.png  \n",
            "  inflating: datasets/Validation/COVID/2020.02.26.20026989-p34-114_1%1.png  \n",
            "  inflating: datasets/Validation/COVID/2020.02.26.20026989-p34-114_2%0.png  \n",
            "  inflating: datasets/Validation/COVID/2020.02.26.20026989-p34-114_2%1.png  \n",
            "  inflating: datasets/Validation/COVID/2020.02.26.20027938-p6-80_1%0.png  \n",
            "  inflating: datasets/Validation/COVID/2020.02.26.20027938-p6-80_1%1.png  \n",
            "  inflating: datasets/Validation/COVID/2020.02.26.20027938-p6-80_2%0.png  \n",
            "  inflating: datasets/Validation/COVID/2020.02.26.20027938-p6-80_2%1.png  \n",
            "  inflating: datasets/Validation/COVID/2020.02.26.20027938-p6-80_3%0.png  \n",
            "  inflating: datasets/Validation/COVID/2020.02.26.20027938-p6-80_3%1.png  \n",
            "  inflating: datasets/Validation/COVID/2020.02.27.20027557-p25-137%0.png  \n",
            "  inflating: datasets/Validation/COVID/2020.02.27.20027557-p25-137%1.png  \n",
            "  inflating: datasets/Validation/COVID/2020.02.27.20027557-p25-137%2.png  \n",
            "  inflating: datasets/Validation/COVID/2020.02.27.20027557-p25-137%3.png  \n",
            "  inflating: datasets/Validation/COVID/2020.02.27.20027557-p25-137%4.png  \n",
            "   creating: datasets/Validation/NON_COVID/\n",
            "  inflating: datasets/Validation/NON_COVID/0.jpg  \n",
            "  inflating: datasets/Validation/NON_COVID/1%0.jpg  \n",
            "  inflating: datasets/Validation/NON_COVID/1%1.jpg  \n",
            "  inflating: datasets/Validation/NON_COVID/1%2.jpg  \n",
            "  inflating: datasets/Validation/NON_COVID/10%0.jpg  \n",
            "  inflating: datasets/Validation/NON_COVID/10%1.jpg  \n",
            "  inflating: datasets/Validation/NON_COVID/10%2.jpg  \n",
            "  inflating: datasets/Validation/NON_COVID/11%0.jpg  \n",
            "  inflating: datasets/Validation/NON_COVID/11%1.jpg  \n",
            "  inflating: datasets/Validation/NON_COVID/11%2.jpg  \n",
            "  inflating: datasets/Validation/NON_COVID/12.jpg  \n",
            "  inflating: datasets/Validation/NON_COVID/13.jpg  \n",
            "  inflating: datasets/Validation/NON_COVID/14%0.jpg  \n",
            "  inflating: datasets/Validation/NON_COVID/14%1.jpg  \n",
            "  inflating: datasets/Validation/NON_COVID/14%2.jpg  \n",
            "  inflating: datasets/Validation/NON_COVID/14%3.jpg  \n",
            "  inflating: datasets/Validation/NON_COVID/14.png  \n",
            "  inflating: datasets/Validation/NON_COVID/15%0.jpg  \n",
            "  inflating: datasets/Validation/NON_COVID/15%1.jpg  \n",
            "  inflating: datasets/Validation/NON_COVID/15%2.jpg  \n",
            "  inflating: datasets/Validation/NON_COVID/15%3.jpg  \n",
            "  inflating: datasets/Validation/NON_COVID/15.png  \n",
            "  inflating: datasets/Validation/NON_COVID/16.jpg  \n",
            "  inflating: datasets/Validation/NON_COVID/17%0.jpg  \n",
            "  inflating: datasets/Validation/NON_COVID/17%1.jpg  \n",
            "  inflating: datasets/Validation/NON_COVID/18%0.jpg  \n",
            "  inflating: datasets/Validation/NON_COVID/18%1.jpg  \n",
            "  inflating: datasets/Validation/NON_COVID/18%2.jpg  \n",
            "  inflating: datasets/Validation/NON_COVID/18%3.jpg  \n",
            "  inflating: datasets/Validation/NON_COVID/19%0.jpg  \n",
            "  inflating: datasets/Validation/NON_COVID/19%1.jpg  \n",
            "  inflating: datasets/Validation/NON_COVID/2%0.jpg  \n",
            "  inflating: datasets/Validation/NON_COVID/2%1.jpg  \n",
            "  inflating: datasets/Validation/NON_COVID/2%2.jpg  \n",
            "  inflating: datasets/Validation/NON_COVID/2%3.jpg  \n",
            "  inflating: datasets/Validation/NON_COVID/20.jpg  \n",
            "  inflating: datasets/Validation/NON_COVID/21%0.jpg  \n",
            "  inflating: datasets/Validation/NON_COVID/21%1.jpg  \n",
            "  inflating: datasets/Validation/NON_COVID/22%0.jpg  \n",
            "  inflating: datasets/Validation/NON_COVID/22%1.jpg  \n",
            "  inflating: datasets/Validation/NON_COVID/23.png  \n",
            "  inflating: datasets/Validation/NON_COVID/24.png  \n",
            "  inflating: datasets/Validation/NON_COVID/25%0.jpg  \n",
            "  inflating: datasets/Validation/NON_COVID/25%1.jpg  \n",
            "  inflating: datasets/Validation/NON_COVID/25%2.jpg  \n",
            "  inflating: datasets/Validation/NON_COVID/25%3.jpg  \n",
            "  inflating: datasets/Validation/NON_COVID/25.png  \n",
            "  inflating: datasets/Validation/NON_COVID/26%0.jpg  \n",
            "  inflating: datasets/Validation/NON_COVID/26%1.jpg  \n",
            "  inflating: datasets/Validation/NON_COVID/26%2.jpg  \n",
            "  inflating: datasets/Validation/NON_COVID/26%3.jpg  \n",
            "  inflating: datasets/Validation/NON_COVID/26.png  \n",
            "  inflating: datasets/Validation/NON_COVID/27.jpg  \n",
            "  inflating: datasets/Validation/NON_COVID/28.jpg  \n",
            "  inflating: datasets/Validation/NON_COVID/29%0.jpg  \n",
            "  inflating: datasets/Validation/NON_COVID/29%1.jpg  \n",
            "  inflating: datasets/Validation/NON_COVID/29%2.jpg  \n",
            "  inflating: datasets/Validation/NON_COVID/29%3.jpg  \n",
            "  inflating: datasets/Validation/NON_COVID/3.jpg  \n",
            "  inflating: datasets/Validation/NON_COVID/30%0.jpg  \n",
            "  inflating: datasets/Validation/NON_COVID/30%1.jpg  \n",
            "  inflating: datasets/Validation/NON_COVID/30%2.jpg  \n",
            "  inflating: datasets/Validation/NON_COVID/30%3.jpg  \n",
            "  inflating: datasets/Validation/NON_COVID/30%4.jpg  \n",
            "  inflating: datasets/Validation/NON_COVID/30%5.jpg  \n",
            "  inflating: datasets/Validation/NON_COVID/31.jpg  \n",
            "  inflating: datasets/Validation/NON_COVID/32%0.jpg  \n",
            "  inflating: datasets/Validation/NON_COVID/32%1.jpg  \n",
            "  inflating: datasets/Validation/NON_COVID/33%0.jpg  \n",
            "  inflating: datasets/Validation/NON_COVID/33%1.jpg  \n",
            "  inflating: datasets/Validation/NON_COVID/33.png  \n",
            "  inflating: datasets/Validation/NON_COVID/34.jpg  \n",
            "  inflating: datasets/Validation/NON_COVID/35%0.jpg  \n",
            "  inflating: datasets/Validation/NON_COVID/35%1.jpg  \n",
            "  inflating: datasets/Validation/NON_COVID/35%2.jpg  \n",
            "  inflating: datasets/Validation/NON_COVID/36%0.jpg  \n",
            "  inflating: datasets/Validation/NON_COVID/36%1.jpg  \n",
            "  inflating: datasets/Validation/NON_COVID/37%0.jpg  \n",
            "  inflating: datasets/Validation/NON_COVID/37%1.jpg  \n",
            "  inflating: datasets/Validation/NON_COVID/37%2.jpg  \n",
            "  inflating: datasets/Validation/NON_COVID/37%3.jpg  \n",
            "  inflating: datasets/Validation/NON_COVID/37%4.jpg  \n",
            "  inflating: datasets/Validation/NON_COVID/38%0.jpg  \n",
            "  inflating: datasets/Validation/NON_COVID/38%1.jpg  \n",
            "  inflating: datasets/Validation/NON_COVID/38%2.jpg  \n",
            "  inflating: datasets/Validation/NON_COVID/39%0.jpg  \n",
            "  inflating: datasets/Validation/NON_COVID/39%1.jpg  \n",
            "  inflating: datasets/Validation/NON_COVID/39%2.jpg  \n",
            "  inflating: datasets/Validation/NON_COVID/39%3.jpg  \n",
            "  inflating: datasets/Validation/NON_COVID/39%4.jpg  \n",
            "  inflating: datasets/Validation/NON_COVID/39%5.jpg  \n",
            "  inflating: datasets/Validation/NON_COVID/4%1.jpg  \n",
            "  inflating: datasets/Validation/NON_COVID/4%3.jpg  \n",
            "  inflating: datasets/Validation/NON_COVID/4%5.jpg  \n",
            "  inflating: datasets/Validation/NON_COVID/4%7.jpg  \n",
            "  inflating: datasets/Validation/NON_COVID/5%0.jpg  \n",
            "  inflating: datasets/Validation/NON_COVID/5%1.jpg  \n",
            "  inflating: datasets/Validation/NON_COVID/5%2.jpg  \n",
            "  inflating: datasets/Validation/NON_COVID/5%3.jpg  \n",
            "  inflating: datasets/Validation/NON_COVID/5%4.jpg  \n",
            "  inflating: datasets/Validation/NON_COVID/5%5.jpg  \n",
            "  inflating: datasets/Validation/NON_COVID/5%6.jpg  \n",
            "  inflating: datasets/Validation/NON_COVID/5%7.jpg  \n",
            "  inflating: datasets/Validation/NON_COVID/6%0.jpg  \n",
            "  inflating: datasets/Validation/NON_COVID/6%1.jpg  \n",
            "  inflating: datasets/Validation/NON_COVID/6%2.jpg  \n",
            "  inflating: datasets/Validation/NON_COVID/6%3.jpg  \n",
            "  inflating: datasets/Validation/NON_COVID/7.jpg  \n",
            "  inflating: datasets/Validation/NON_COVID/8.jpg  \n",
            "  inflating: datasets/Validation/NON_COVID/9.jpg  \n"
          ],
          "name": "stdout"
        }
      ]
    },
    {
      "cell_type": "code",
      "metadata": {
        "id": "JXdJuPnZDwAj"
      },
      "source": [
        "TRAIN_PATH = \"datasets/Train\"\n",
        "VAL_PATH = \"datasets/Validation\""
      ],
      "execution_count": null,
      "outputs": []
    },
    {
      "cell_type": "code",
      "metadata": {
        "id": "faWZ7ucWEBpA"
      },
      "source": [
        "import numpy as np\n",
        "import matplotlib.pyplot as plt\n",
        "import keras\n",
        "from keras.layers import *\n",
        "from keras.models import *\n",
        "from keras.preprocessing import image"
      ],
      "execution_count": null,
      "outputs": []
    },
    {
      "cell_type": "code",
      "metadata": {
        "id": "YI_nfwVlEWHN"
      },
      "source": [
        "model = Sequential()\n",
        "model.add(Conv2D(32,kernel_size=(3,3),activation='relu',input_shape=(224,224,3)))\n",
        "model.add(Conv2D(64,(3,3),activation='relu'))\n",
        "model.add(MaxPooling2D(pool_size=(2,2)))\n",
        "model.add(Dropout(0.25))\n",
        "model.add(Conv2D(64,(3,3),activation='relu'))\n",
        "model.add(MaxPooling2D(pool_size=(2,2)))\n",
        "model.add(Dropout(0.25))\n",
        "model.add(Conv2D(128,(3,3),activation='relu'))\n",
        "model.add(MaxPooling2D(pool_size=(2,2)))\n",
        "model.add(Dropout(0.25))\n",
        "model.add(Flatten())\n",
        "model.add(Dense(64,activation='relu'))\n",
        "model.add(Dropout(0.5))\n",
        "model.add(Dense(1,activation='sigmoid'))\n",
        "model.compile(loss=keras.losses.binary_crossentropy,optimizer='adam',metrics=['accuracy'])"
      ],
      "execution_count": null,
      "outputs": []
    },
    {
      "cell_type": "code",
      "metadata": {
        "colab": {
          "base_uri": "https://localhost:8080/"
        },
        "id": "mAa8Ei02GTIf",
        "outputId": "42a6f75a-0e3a-4ed1-8d91-d54c8e8be2fb"
      },
      "source": [
        "model.summary()"
      ],
      "execution_count": null,
      "outputs": [
        {
          "output_type": "stream",
          "text": [
            "Model: \"sequential\"\n",
            "_________________________________________________________________\n",
            "Layer (type)                 Output Shape              Param #   \n",
            "=================================================================\n",
            "conv2d (Conv2D)              (None, 222, 222, 32)      896       \n",
            "_________________________________________________________________\n",
            "conv2d_1 (Conv2D)            (None, 220, 220, 64)      18496     \n",
            "_________________________________________________________________\n",
            "max_pooling2d (MaxPooling2D) (None, 110, 110, 64)      0         \n",
            "_________________________________________________________________\n",
            "dropout (Dropout)            (None, 110, 110, 64)      0         \n",
            "_________________________________________________________________\n",
            "conv2d_2 (Conv2D)            (None, 108, 108, 64)      36928     \n",
            "_________________________________________________________________\n",
            "max_pooling2d_1 (MaxPooling2 (None, 54, 54, 64)        0         \n",
            "_________________________________________________________________\n",
            "dropout_1 (Dropout)          (None, 54, 54, 64)        0         \n",
            "_________________________________________________________________\n",
            "conv2d_3 (Conv2D)            (None, 52, 52, 128)       73856     \n",
            "_________________________________________________________________\n",
            "max_pooling2d_2 (MaxPooling2 (None, 26, 26, 128)       0         \n",
            "_________________________________________________________________\n",
            "dropout_2 (Dropout)          (None, 26, 26, 128)       0         \n",
            "_________________________________________________________________\n",
            "flatten (Flatten)            (None, 86528)             0         \n",
            "_________________________________________________________________\n",
            "dense (Dense)                (None, 64)                5537856   \n",
            "_________________________________________________________________\n",
            "dropout_3 (Dropout)          (None, 64)                0         \n",
            "_________________________________________________________________\n",
            "dense_1 (Dense)              (None, 1)                 65        \n",
            "=================================================================\n",
            "Total params: 5,668,097\n",
            "Trainable params: 5,668,097\n",
            "Non-trainable params: 0\n",
            "_________________________________________________________________\n"
          ],
          "name": "stdout"
        }
      ]
    },
    {
      "cell_type": "code",
      "metadata": {
        "id": "8RGy9CbAK_Jf"
      },
      "source": [
        "train_datagen = image.ImageDataGenerator(\n",
        "    rescale = 1./255,\n",
        "    shear_range = 0.2,\n",
        "    zoom_range = 0.2,\n",
        "    horizontal_flip = True,\n",
        ")\n",
        "test_dataset = image.ImageDataGenerator(rescale=1./255)"
      ],
      "execution_count": null,
      "outputs": []
    },
    {
      "cell_type": "code",
      "metadata": {
        "colab": {
          "base_uri": "https://localhost:8080/"
        },
        "id": "p6PXWM0-MY1y",
        "outputId": "43083d52-49f5-42e1-e0c3-e41a1623ca11"
      },
      "source": [
        "train_generator = train_datagen.flow_from_directory(\n",
        "    'datasets/Train',\n",
        "    target_size = (224,224),\n",
        "    batch_size = 32,\n",
        "    class_mode = 'binary')\n"
      ],
      "execution_count": null,
      "outputs": [
        {
          "output_type": "stream",
          "text": [
            "Found 526 images belonging to 2 classes.\n"
          ],
          "name": "stdout"
        }
      ]
    },
    {
      "cell_type": "code",
      "metadata": {
        "colab": {
          "base_uri": "https://localhost:8080/"
        },
        "id": "UfZGieI7Onn2",
        "outputId": "963e64df-c5c9-4ea1-ce6c-f57983945ceb"
      },
      "source": [
        "train_generator.class_indices"
      ],
      "execution_count": null,
      "outputs": [
        {
          "output_type": "execute_result",
          "data": {
            "text/plain": [
              "{'COVID': 0, 'NON_COVID': 1}"
            ]
          },
          "metadata": {
            "tags": []
          },
          "execution_count": 9
        }
      ]
    },
    {
      "cell_type": "code",
      "metadata": {
        "colab": {
          "base_uri": "https://localhost:8080/"
        },
        "id": "U3u-9QKyPB7M",
        "outputId": "cd833139-f8db-4dda-ba37-2de49f9e49f6"
      },
      "source": [
        "validation_generator = test_dataset.flow_from_directory(\n",
        "    'datasets/Validation',\n",
        "    target_size = (224,224),\n",
        "    batch_size = 32,\n",
        "    class_mode = 'binary')"
      ],
      "execution_count": null,
      "outputs": [
        {
          "output_type": "stream",
          "text": [
            "Found 220 images belonging to 2 classes.\n"
          ],
          "name": "stdout"
        }
      ]
    },
    {
      "cell_type": "code",
      "metadata": {
        "colab": {
          "base_uri": "https://localhost:8080/"
        },
        "id": "lqERCwxVQAqd",
        "outputId": "f8b9faad-75d5-453c-aed9-d7b35afecb89"
      },
      "source": [
        "history = model.fit_generator(\n",
        "    train_generator,\n",
        "    steps_per_epoch=4,\n",
        "    epochs = 10,\n",
        "    validation_data = validation_generator,\n",
        "    validation_steps=2\n",
        ")"
      ],
      "execution_count": null,
      "outputs": [
        {
          "output_type": "stream",
          "text": [
            "/usr/local/lib/python3.7/dist-packages/keras/engine/training.py:1915: UserWarning: `Model.fit_generator` is deprecated and will be removed in a future version. Please use `Model.fit`, which supports generators.\n",
            "  warnings.warn('`Model.fit_generator` is deprecated and '\n"
          ],
          "name": "stderr"
        },
        {
          "output_type": "stream",
          "text": [
            "Epoch 1/10\n",
            "4/4 [==============================] - 2s 743ms/step - loss: 0.6334 - accuracy: 0.6091 - val_loss: 0.6759 - val_accuracy: 0.5156\n",
            "Epoch 2/10\n",
            "4/4 [==============================] - 2s 579ms/step - loss: 0.6468 - accuracy: 0.5938 - val_loss: 0.6899 - val_accuracy: 0.5312\n",
            "Epoch 3/10\n",
            "4/4 [==============================] - 2s 603ms/step - loss: 0.6127 - accuracy: 0.6250 - val_loss: 0.6864 - val_accuracy: 0.4531\n",
            "Epoch 4/10\n",
            "4/4 [==============================] - 2s 594ms/step - loss: 0.6198 - accuracy: 0.5938 - val_loss: 0.7077 - val_accuracy: 0.4375\n",
            "Epoch 5/10\n",
            "4/4 [==============================] - 2s 538ms/step - loss: 0.6723 - accuracy: 0.5818 - val_loss: 0.6872 - val_accuracy: 0.4375\n",
            "Epoch 6/10\n",
            "4/4 [==============================] - 2s 629ms/step - loss: 0.6166 - accuracy: 0.6953 - val_loss: 0.6966 - val_accuracy: 0.4531\n",
            "Epoch 7/10\n",
            "4/4 [==============================] - 2s 662ms/step - loss: 0.6499 - accuracy: 0.5703 - val_loss: 0.7107 - val_accuracy: 0.4219\n",
            "Epoch 8/10\n",
            "4/4 [==============================] - 2s 609ms/step - loss: 0.6302 - accuracy: 0.6094 - val_loss: 0.7520 - val_accuracy: 0.4531\n",
            "Epoch 9/10\n",
            "4/4 [==============================] - 2s 567ms/step - loss: 0.6020 - accuracy: 0.6562 - val_loss: 0.7486 - val_accuracy: 0.4062\n",
            "Epoch 10/10\n",
            "4/4 [==============================] - 2s 628ms/step - loss: 0.5771 - accuracy: 0.6562 - val_loss: 0.7615 - val_accuracy: 0.5938\n"
          ],
          "name": "stdout"
        }
      ]
    },
    {
      "cell_type": "code",
      "metadata": {
        "id": "BQAbDcA1k7DI",
        "colab": {
          "base_uri": "https://localhost:8080/",
          "height": 279
        },
        "outputId": "7373d8fb-4364-495c-bd20-d276d0e4ca1d"
      },
      "source": [
        "from matplotlib import pyplot as plt\n",
        "\n",
        "plt.plot(history.history['loss'],'r',label='training loss')\n",
        "plt.plot(history.history['val_loss'],'b',label='validation loss')\n",
        "plt.xlabel('#epochs')\n",
        "plt.ylabel('loss')\n",
        "plt.legend()\n",
        "plt.show()\n"
      ],
      "execution_count": null,
      "outputs": [
        {
          "output_type": "display_data",
          "data": {
            "image/png": "[encoded data removed]",
            "text/plain": [
              "<Figure size 432x288 with 1 Axes>"
            ]
          },
          "metadata": {
            "tags": [],
            "needs_background": "light"
          }
        }
      ]
    },
    {
      "cell_type": "code",
      "metadata": {
        "id": "l-bO01m6k-ij",
        "colab": {
          "base_uri": "https://localhost:8080/",
          "height": 279
        },
        "outputId": "947bf8cb-f404-4fd2-db08-bd9b295d03bd"
      },
      "source": [
        "from matplotlib import pyplot as plt\n",
        "\n",
        "plt.plot(history.history['accuracy'],'r',label='training accuracy')\n",
        "plt.plot(history.history['val_accuracy'],'b',label='validation accuracy')\n",
        "plt.xlabel('#epochs')\n",
        "plt.ylabel('loss')\n",
        "plt.legend()\n",
        "plt.show()\n"
      ],
      "execution_count": null,
      "outputs": [
        {
          "output_type": "display_data",
          "data": {
            "image/png": "[encoded data removed]",
            "text/plain": [
              "<Figure size 432x288 with 1 Axes>"
            ]
          },
          "metadata": {
            "tags": [],
            "needs_background": "light"
          }
        }
      ]
    },
    {
      "cell_type": "code",
      "metadata": {
        "id": "qqoER-HvBzkC"
      },
      "source": [
        "model.save(\"model_adv.h5\")"
      ],
      "execution_count": null,
      "outputs": []
    },
    {
      "cell_type": "code",
      "metadata": {
        "colab": {
          "base_uri": "https://localhost:8080/"
        },
        "id": "VafK-b0WXFo8",
        "outputId": "10d93607-4b4d-4358-8d96-d937aed6a1b2"
      },
      "source": [
        "model.evaluate_generator(train_generator)"
      ],
      "execution_count": null,
      "outputs": [
        {
          "output_type": "stream",
          "text": [
            "/usr/local/lib/python3.7/dist-packages/keras/engine/training.py:1948: UserWarning: `Model.evaluate_generator` is deprecated and will be removed in a future version. Please use `Model.evaluate`, which supports generators.\n",
            "  warnings.warn('`Model.evaluate_generator` is deprecated and '\n"
          ],
          "name": "stderr"
        },
        {
          "output_type": "execute_result",
          "data": {
            "text/plain": [
              "[0.6262877583503723, 0.5931559205055237]"
            ]
          },
          "metadata": {
            "tags": []
          },
          "execution_count": 20
        }
      ]
    },
    {
      "cell_type": "code",
      "metadata": {
        "id": "YxIb6YcDsvIH",
        "colab": {
          "base_uri": "https://localhost:8080/"
        },
        "outputId": "60ddb0f0-2aa4-4e16-ac16-02e16bd978af"
      },
      "source": [
        "model.evaluate_generator(validation_generator)"
      ],
      "execution_count": null,
      "outputs": [
        {
          "output_type": "stream",
          "text": [
            "/usr/local/lib/python3.7/dist-packages/keras/engine/training.py:1948: UserWarning: `Model.evaluate_generator` is deprecated and will be removed in a future version. Please use `Model.evaluate`, which supports generators.\n",
            "  warnings.warn('`Model.evaluate_generator` is deprecated and '\n"
          ],
          "name": "stderr"
        },
        {
          "output_type": "execute_result",
          "data": {
            "text/plain": [
              "[0.7561820149421692, 0.5272727012634277]"
            ]
          },
          "metadata": {
            "tags": []
          },
          "execution_count": 21
        }
      ]
    },
    {
      "cell_type": "code",
      "metadata": {
        "id": "CzlMBUs9XIUa"
      },
      "source": [
        "model=load_model('model_adv.h5')"
      ],
      "execution_count": null,
      "outputs": []
    },
    {
      "cell_type": "code",
      "metadata": {
        "id": "n77q8te3XLQq"
      },
      "source": [
        "import os"
      ],
      "execution_count": null,
      "outputs": []
    },
    {
      "cell_type": "code",
      "metadata": {
        "colab": {
          "base_uri": "https://localhost:8080/"
        },
        "id": "r9mrKHopXRxc",
        "outputId": "284d86f7-9bbf-4bc6-b1f1-4842a500b68f"
      },
      "source": [
        " train_generator.class_indices"
      ],
      "execution_count": null,
      "outputs": [
        {
          "output_type": "execute_result",
          "data": {
            "text/plain": [
              "{'COVID': 0, 'NON_COVID': 1}"
            ]
          },
          "metadata": {
            "tags": []
          },
          "execution_count": 24
        }
      ]
    },
    {
      "cell_type": "code",
      "metadata": {
        "id": "1vr0OADvXU4Q"
      },
      "source": [
        "x_test=[]\n",
        "y_test=[]\n"
      ],
      "execution_count": null,
      "outputs": []
    },
    {
      "cell_type": "code",
      "metadata": {
        "colab": {
          "base_uri": "https://localhost:8080/"
        },
        "id": "3lwddsLsXZuW",
        "outputId": "203ce246-6458-4bd6-fe5a-62594545af2f"
      },
      "source": [
        "for i in os.listdir('/content/datasets/Validation/NON_COVID/'):\n",
        "  img=image.load_img('/content/datasets/Validation/NON_COVID/'+i,target_size=(224,224))\n",
        "  img=image.img_to_array(img)\n",
        "  img=np.expand_dims(img,axis=0)\n",
        "  p=model.predict_classes(img)\n",
        "  y_test.append(p[0,0])\n",
        "  x_test.append(1)"
      ],
      "execution_count": null,
      "outputs": [
        {
          "output_type": "stream",
          "text": [
            "/usr/local/lib/python3.7/dist-packages/keras/engine/sequential.py:450: UserWarning: `model.predict_classes()` is deprecated and will be removed after 2021-01-01. Please use instead:* `np.argmax(model.predict(x), axis=-1)`,   if your model does multi-class classification   (e.g. if it uses a `softmax` last-layer activation).* `(model.predict(x) > 0.5).astype(\"int32\")`,   if your model does binary classification   (e.g. if it uses a `sigmoid` last-layer activation).\n",
            "  warnings.warn('`model.predict_classes()` is deprecated and '\n"
          ],
          "name": "stderr"
        }
      ]
    },
    {
      "cell_type": "code",
      "metadata": {
        "colab": {
          "base_uri": "https://localhost:8080/"
        },
        "id": "PNuK4K0wXcUQ",
        "outputId": "a307bcfd-59e8-4b2b-be7a-3a1bd9f664ef"
      },
      "source": [
        "for i in os.listdir('/content/datasets/Validation/COVID/'):\n",
        "  img=image.load_img('/content/datasets/Validation/COVID/'+i,target_size=(224,224))\n",
        "  img=image.img_to_array(img)\n",
        "  img=np.expand_dims(img,axis=0)\n",
        "  p=model.predict_classes(img)\n",
        "  y_test.append(p[0,0])\n",
        "  x_test.append(0)"
      ],
      "execution_count": null,
      "outputs": [
        {
          "output_type": "stream",
          "text": [
            "/usr/local/lib/python3.7/dist-packages/keras/engine/sequential.py:450: UserWarning: `model.predict_classes()` is deprecated and will be removed after 2021-01-01. Please use instead:* `np.argmax(model.predict(x), axis=-1)`,   if your model does multi-class classification   (e.g. if it uses a `softmax` last-layer activation).* `(model.predict(x) > 0.5).astype(\"int32\")`,   if your model does binary classification   (e.g. if it uses a `sigmoid` last-layer activation).\n",
            "  warnings.warn('`model.predict_classes()` is deprecated and '\n"
          ],
          "name": "stderr"
        }
      ]
    },
    {
      "cell_type": "code",
      "metadata": {
        "id": "Rds_sbGfXgVR"
      },
      "source": [
        "x_test=np.array(x_test)\n",
        "y_test=np.array(y_test)"
      ],
      "execution_count": null,
      "outputs": []
    },
    {
      "cell_type": "code",
      "metadata": {
        "id": "mdtqc2VFXg6d"
      },
      "source": [
        "from sklearn.metrics import confusion_matrix\n",
        "import seaborn as sns\n",
        "\n",
        "\n",
        "cm=confusion_matrix(x_test,y_test)"
      ],
      "execution_count": null,
      "outputs": []
    },
    {
      "cell_type": "code",
      "metadata": {
        "colab": {
          "base_uri": "https://localhost:8080/",
          "height": 284
        },
        "id": "jgVFkHMAXmxR",
        "outputId": "4866263d-b0c7-46d7-a89d-717c56757aa1"
      },
      "source": [
        "sns.heatmap(cm,cmap=\"plasma\",annot=True)"
      ],
      "execution_count": null,
      "outputs": [
        {
          "output_type": "execute_result",
          "data": {
            "text/plain": [
              "<matplotlib.axes._subplots.AxesSubplot at 0x7fb3932edf10>"
            ]
          },
          "metadata": {
            "tags": []
          },
          "execution_count": 30
        },
        {
          "output_type": "display_data",
          "data": {
            "image/png": "[encoded data removed]",
            "text/plain": [
              "<Figure size 432x288 with 2 Axes>"
            ]
          },
          "metadata": {
            "tags": [],
            "needs_background": "light"
          }
        }
      ]
    },
    {
      "cell_type": "code",
      "metadata": {
        "id": "Lnn593zsXwxZ"
      },
      "source": [
        "from sklearn.metrics import classification_report"
      ],
      "execution_count": null,
      "outputs": []
    },
    {
      "cell_type": "code",
      "metadata": {
        "colab": {
          "base_uri": "https://localhost:8080/"
        },
        "id": "XdmwTc83Xxji",
        "outputId": "6176778d-8f22-4e11-fdbb-328f9764debd"
      },
      "source": [
        "print(classification_report(x_test,y_test))"
      ],
      "execution_count": null,
      "outputs": [
        {
          "output_type": "stream",
          "text": [
            "              precision    recall  f1-score   support\n",
            "\n",
            "           0       0.50      0.24      0.32       110\n",
            "           1       0.50      0.76      0.60       110\n",
            "\n",
            "    accuracy                           0.50       220\n",
            "   macro avg       0.50      0.50      0.46       220\n",
            "weighted avg       0.50      0.50      0.46       220\n",
            "\n"
          ],
          "name": "stdout"
        }
      ]
    },
    {
      "cell_type": "code",
      "metadata": {
        "id": "1OuafcKYEwFE"
      },
      "source": [],
      "execution_count": null,
      "outputs": []
    }
  ]
}